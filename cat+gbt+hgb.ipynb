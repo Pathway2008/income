{
 "cells": [
  {
   "cell_type": "markdown",
   "id": "b16c623d",
   "metadata": {},
   "source": [
    "### 라이브러리 설치"
   ]
  },
  {
   "cell_type": "code",
   "execution_count": 1,
   "id": "833f18af",
   "metadata": {
    "ExecuteTime": {
     "end_time": "2024-04-07T12:21:24.751556Z",
     "start_time": "2024-04-07T12:21:24.631808Z"
    }
   },
   "outputs": [],
   "source": [
    "# 라이브러리 설치\n",
    "import pandas as pd\n",
    "import numpy as np\n",
    "import matplotlib.pyplot as plt\n",
    "import seaborn as sns\n",
    "import random\n",
    "import os\n",
    "import optuna\n",
    "import warnings\n",
    "warnings.filterwarnings('ignore')\n",
    "\n",
    "# Rgression Libraries\n",
    "from catboost import CatBoostRegressor, CatBoostClassifier\n",
    "from lightgbm import LGBMRegressor\n",
    "from xgboost import XGBRegressor\n",
    "\n",
    "from sklearn.linear_model import LogisticRegression\n",
    "from sklearn.ensemble import VotingRegressor, HistGradientBoostingRegressor, GradientBoostingRegressor\n",
    "from sklearn.preprocessing import LabelEncoder, StandardScaler\n",
    "from sklearn.model_selection import train_test_split, cross_val_score, StratifiedKFold\n",
    "from sklearn.metrics import root_mean_squared_error, r2_score\n",
    "\n",
    "%matplotlib inline\n",
    "\n",
    "def seed_everything(seed):\n",
    "    random.seed(seed)\n",
    "    os.environ['PYTHONHASHSEED'] = str(seed)\n",
    "    np.random.seed(seed)\n",
    "\n",
    "seed_everything(42) # Seed 고정\n",
    "\n",
    "train = pd.read_csv('data/train.csv', index_col='ID')\n",
    "test = pd.read_csv('data/test.csv', index_col='ID')\n",
    "sub = pd.read_csv('data/sample_submission.csv')"
   ]
  },
  {
   "cell_type": "code",
   "execution_count": 2,
   "id": "1de6b244",
   "metadata": {
    "ExecuteTime": {
     "end_time": "2024-04-07T12:21:25.249050Z",
     "start_time": "2024-04-07T12:21:24.940018Z"
    }
   },
   "outputs": [
    {
     "data": {
      "text/plain": [
       "<Axes: xlabel='Income', ylabel='Count'>"
      ]
     },
     "execution_count": 2,
     "metadata": {},
     "output_type": "execute_result"
    },
    {
     "data": {
      "image/png": "[encoded data removed]",
      "text/plain": [
       "<Figure size 640x480 with 1 Axes>"
      ]
     },
     "metadata": {},
     "output_type": "display_data"
    }
   ],
   "source": [
    "# 타겟 밸류인 인컴 확인\n",
    "sns.histplot(train['Income'], kde=True)"
   ]
  },
  {
   "cell_type": "markdown",
   "id": "c3dfce60",
   "metadata": {},
   "source": [
    "### 이상치 제거"
   ]
  },
  {
   "cell_type": "code",
   "execution_count": 3,
   "id": "9756dbbe",
   "metadata": {
    "ExecuteTime": {
     "end_time": "2024-04-07T12:21:25.438660Z",
     "start_time": "2024-04-07T12:21:25.434067Z"
    }
   },
   "outputs": [],
   "source": [
    "# 이상치 제거\n",
    "idx = train[(train['Income'] >= 5000) & (train['Income'] < 10000) & (train['Income_Status'] == 'Under Median')].index\n",
    "train.drop(idx, axis=0, inplace=True)"
   ]
  },
  {
   "cell_type": "code",
   "execution_count": 4,
   "id": "6f4e5b6e",
   "metadata": {
    "ExecuteTime": {
     "end_time": "2024-04-07T12:21:25.605780Z",
     "start_time": "2024-04-07T12:21:25.600762Z"
    }
   },
   "outputs": [],
   "source": [
    "# 이상치 제거\n",
    "train.loc[(train['Gains'] == 99999), 'Gains'] = 0"
   ]
  },
  {
   "cell_type": "markdown",
   "id": "b02121e1",
   "metadata": {},
   "source": [
    "### 파생변수 생성\n",
    "- 이민자 여부 (아버지를 중점으로)\n",
    "- 투자와 관련된 값들이 이상치가 너무 높아 간단한 수학 공식을 적용해보았습니다.\n",
    "$$df['Total Income indicator'] = \\frac{df['Total Income indicator']}{||df['Tatal Income indicator']||_2}$$"
   ]
  },
  {
   "cell_type": "code",
   "execution_count": 5,
   "id": "04edaa3d",
   "metadata": {
    "ExecuteTime": {
     "end_time": "2024-04-07T12:21:25.729550Z",
     "start_time": "2024-04-07T12:21:25.685003Z"
    }
   },
   "outputs": [
    {
     "data": {
      "text/html": [
       "<div>\n",
       "<style scoped>\n",
       "    .dataframe tbody tr th:only-of-type {\n",
       "        vertical-align: middle;\n",
       "    }\n",
       "\n",
       "    .dataframe tbody tr th {\n",
       "        vertical-align: top;\n",
       "    }\n",
       "\n",
       "    .dataframe thead th {\n",
       "        text-align: right;\n",
       "    }\n",
       "</style>\n",
       "<table border=\"1\" class=\"dataframe\">\n",
       "  <thead>\n",
       "    <tr style=\"text-align: right;\">\n",
       "      <th></th>\n",
       "      <th>Age</th>\n",
       "      <th>Gender</th>\n",
       "      <th>Education_Status</th>\n",
       "      <th>Employment_Status</th>\n",
       "      <th>Working_Week (Yearly)</th>\n",
       "      <th>Industry_Status</th>\n",
       "      <th>Occupation_Status</th>\n",
       "      <th>Race</th>\n",
       "      <th>Hispanic_Origin</th>\n",
       "      <th>Martial_Status</th>\n",
       "      <th>...</th>\n",
       "      <th>Birth_Country</th>\n",
       "      <th>Birth_Country (Father)</th>\n",
       "      <th>Birth_Country (Mother)</th>\n",
       "      <th>Tax_Status</th>\n",
       "      <th>Gains</th>\n",
       "      <th>Losses</th>\n",
       "      <th>Dividends</th>\n",
       "      <th>Income_Status</th>\n",
       "      <th>Immigrant_Background</th>\n",
       "      <th>Total Income indicator</th>\n",
       "    </tr>\n",
       "    <tr>\n",
       "      <th>ID</th>\n",
       "      <th></th>\n",
       "      <th></th>\n",
       "      <th></th>\n",
       "      <th></th>\n",
       "      <th></th>\n",
       "      <th></th>\n",
       "      <th></th>\n",
       "      <th></th>\n",
       "      <th></th>\n",
       "      <th></th>\n",
       "      <th></th>\n",
       "      <th></th>\n",
       "      <th></th>\n",
       "      <th></th>\n",
       "      <th></th>\n",
       "      <th></th>\n",
       "      <th></th>\n",
       "      <th></th>\n",
       "      <th></th>\n",
       "      <th></th>\n",
       "      <th></th>\n",
       "    </tr>\n",
       "  </thead>\n",
       "  <tbody>\n",
       "    <tr>\n",
       "      <th>TEST_0000</th>\n",
       "      <td>79</td>\n",
       "      <td>M</td>\n",
       "      <td>High Junior</td>\n",
       "      <td>Children or Armed Forces</td>\n",
       "      <td>0</td>\n",
       "      <td>Not in universe or children</td>\n",
       "      <td>Unknown</td>\n",
       "      <td>White</td>\n",
       "      <td>All other</td>\n",
       "      <td>Single</td>\n",
       "      <td>...</td>\n",
       "      <td>US</td>\n",
       "      <td>Unknown</td>\n",
       "      <td>Unknown</td>\n",
       "      <td>Single</td>\n",
       "      <td>0</td>\n",
       "      <td>0</td>\n",
       "      <td>0</td>\n",
       "      <td>Under Median</td>\n",
       "      <td>Immigrant</td>\n",
       "      <td>0.0</td>\n",
       "    </tr>\n",
       "    <tr>\n",
       "      <th>TEST_0001</th>\n",
       "      <td>47</td>\n",
       "      <td>M</td>\n",
       "      <td>Elementary (5-6)</td>\n",
       "      <td>Children or Armed Forces</td>\n",
       "      <td>0</td>\n",
       "      <td>Not in universe or children</td>\n",
       "      <td>Unknown</td>\n",
       "      <td>White</td>\n",
       "      <td>Other Spanish</td>\n",
       "      <td>Single</td>\n",
       "      <td>...</td>\n",
       "      <td>US</td>\n",
       "      <td>US</td>\n",
       "      <td>US</td>\n",
       "      <td>Nonfiler</td>\n",
       "      <td>0</td>\n",
       "      <td>0</td>\n",
       "      <td>0</td>\n",
       "      <td>Under Median</td>\n",
       "      <td>Native</td>\n",
       "      <td>0.0</td>\n",
       "    </tr>\n",
       "    <tr>\n",
       "      <th>TEST_0002</th>\n",
       "      <td>18</td>\n",
       "      <td>F</td>\n",
       "      <td>High Junior</td>\n",
       "      <td>Children or Armed Forces</td>\n",
       "      <td>52</td>\n",
       "      <td>Retail</td>\n",
       "      <td>Services</td>\n",
       "      <td>White</td>\n",
       "      <td>All other</td>\n",
       "      <td>Single</td>\n",
       "      <td>...</td>\n",
       "      <td>US</td>\n",
       "      <td>US</td>\n",
       "      <td>US</td>\n",
       "      <td>Single</td>\n",
       "      <td>0</td>\n",
       "      <td>0</td>\n",
       "      <td>0</td>\n",
       "      <td>Under Median</td>\n",
       "      <td>Native</td>\n",
       "      <td>0.0</td>\n",
       "    </tr>\n",
       "    <tr>\n",
       "      <th>TEST_0003</th>\n",
       "      <td>39</td>\n",
       "      <td>F</td>\n",
       "      <td>Associates degree (Vocational)</td>\n",
       "      <td>Full-Time</td>\n",
       "      <td>30</td>\n",
       "      <td>Medical (except Hospitals)</td>\n",
       "      <td>Services</td>\n",
       "      <td>White</td>\n",
       "      <td>All other</td>\n",
       "      <td>Married</td>\n",
       "      <td>...</td>\n",
       "      <td>US</td>\n",
       "      <td>US</td>\n",
       "      <td>US</td>\n",
       "      <td>Married Filling Jointly both under 65 (MFJ)</td>\n",
       "      <td>0</td>\n",
       "      <td>0</td>\n",
       "      <td>0</td>\n",
       "      <td>Unknown</td>\n",
       "      <td>Native</td>\n",
       "      <td>0.0</td>\n",
       "    </tr>\n",
       "    <tr>\n",
       "      <th>TEST_0004</th>\n",
       "      <td>6</td>\n",
       "      <td>M</td>\n",
       "      <td>Children</td>\n",
       "      <td>Children or Armed Forces</td>\n",
       "      <td>0</td>\n",
       "      <td>Not in universe or children</td>\n",
       "      <td>Unknown</td>\n",
       "      <td>White</td>\n",
       "      <td>Mexican-American</td>\n",
       "      <td>Single</td>\n",
       "      <td>...</td>\n",
       "      <td>US</td>\n",
       "      <td>US</td>\n",
       "      <td>US</td>\n",
       "      <td>Nonfiler</td>\n",
       "      <td>0</td>\n",
       "      <td>0</td>\n",
       "      <td>0</td>\n",
       "      <td>Unknown</td>\n",
       "      <td>Native</td>\n",
       "      <td>0.0</td>\n",
       "    </tr>\n",
       "    <tr>\n",
       "      <th>...</th>\n",
       "      <td>...</td>\n",
       "      <td>...</td>\n",
       "      <td>...</td>\n",
       "      <td>...</td>\n",
       "      <td>...</td>\n",
       "      <td>...</td>\n",
       "      <td>...</td>\n",
       "      <td>...</td>\n",
       "      <td>...</td>\n",
       "      <td>...</td>\n",
       "      <td>...</td>\n",
       "      <td>...</td>\n",
       "      <td>...</td>\n",
       "      <td>...</td>\n",
       "      <td>...</td>\n",
       "      <td>...</td>\n",
       "      <td>...</td>\n",
       "      <td>...</td>\n",
       "      <td>...</td>\n",
       "      <td>...</td>\n",
       "      <td>...</td>\n",
       "    </tr>\n",
       "    <tr>\n",
       "      <th>TEST_9995</th>\n",
       "      <td>31</td>\n",
       "      <td>M</td>\n",
       "      <td>Bachelors degree</td>\n",
       "      <td>Children or Armed Forces</td>\n",
       "      <td>52</td>\n",
       "      <td>Other professional services</td>\n",
       "      <td>Technicians &amp; Support</td>\n",
       "      <td>White</td>\n",
       "      <td>All other</td>\n",
       "      <td>Single</td>\n",
       "      <td>...</td>\n",
       "      <td>US</td>\n",
       "      <td>US</td>\n",
       "      <td>US</td>\n",
       "      <td>Single</td>\n",
       "      <td>0</td>\n",
       "      <td>0</td>\n",
       "      <td>0</td>\n",
       "      <td>Under Median</td>\n",
       "      <td>Native</td>\n",
       "      <td>0.0</td>\n",
       "    </tr>\n",
       "    <tr>\n",
       "      <th>TEST_9996</th>\n",
       "      <td>27</td>\n",
       "      <td>M</td>\n",
       "      <td>College</td>\n",
       "      <td>Children or Armed Forces</td>\n",
       "      <td>52</td>\n",
       "      <td>Retail</td>\n",
       "      <td>Handlers/Cleaners</td>\n",
       "      <td>White</td>\n",
       "      <td>All other</td>\n",
       "      <td>Married</td>\n",
       "      <td>...</td>\n",
       "      <td>US</td>\n",
       "      <td>US</td>\n",
       "      <td>US</td>\n",
       "      <td>Married Filling Jointly both under 65 (MFJ)</td>\n",
       "      <td>0</td>\n",
       "      <td>0</td>\n",
       "      <td>0</td>\n",
       "      <td>Under Median</td>\n",
       "      <td>Native</td>\n",
       "      <td>0.0</td>\n",
       "    </tr>\n",
       "    <tr>\n",
       "      <th>TEST_9997</th>\n",
       "      <td>18</td>\n",
       "      <td>M</td>\n",
       "      <td>High graduate</td>\n",
       "      <td>Children or Armed Forces</td>\n",
       "      <td>7</td>\n",
       "      <td>Retail</td>\n",
       "      <td>Services</td>\n",
       "      <td>Black</td>\n",
       "      <td>All other</td>\n",
       "      <td>Single</td>\n",
       "      <td>...</td>\n",
       "      <td>US</td>\n",
       "      <td>US</td>\n",
       "      <td>US</td>\n",
       "      <td>Nonfiler</td>\n",
       "      <td>0</td>\n",
       "      <td>0</td>\n",
       "      <td>0</td>\n",
       "      <td>Under Median</td>\n",
       "      <td>Native</td>\n",
       "      <td>0.0</td>\n",
       "    </tr>\n",
       "    <tr>\n",
       "      <th>TEST_9998</th>\n",
       "      <td>9</td>\n",
       "      <td>M</td>\n",
       "      <td>Children</td>\n",
       "      <td>Children or Armed Forces</td>\n",
       "      <td>0</td>\n",
       "      <td>Not in universe or children</td>\n",
       "      <td>Unknown</td>\n",
       "      <td>White</td>\n",
       "      <td>All other</td>\n",
       "      <td>Single</td>\n",
       "      <td>...</td>\n",
       "      <td>US</td>\n",
       "      <td>US</td>\n",
       "      <td>US</td>\n",
       "      <td>Nonfiler</td>\n",
       "      <td>0</td>\n",
       "      <td>0</td>\n",
       "      <td>0</td>\n",
       "      <td>Under Median</td>\n",
       "      <td>Native</td>\n",
       "      <td>0.0</td>\n",
       "    </tr>\n",
       "    <tr>\n",
       "      <th>TEST_9999</th>\n",
       "      <td>34</td>\n",
       "      <td>M</td>\n",
       "      <td>High graduate</td>\n",
       "      <td>Full-Time</td>\n",
       "      <td>39</td>\n",
       "      <td>Retail</td>\n",
       "      <td>Management</td>\n",
       "      <td>White</td>\n",
       "      <td>All other</td>\n",
       "      <td>Married (Armed Force Spouse)</td>\n",
       "      <td>...</td>\n",
       "      <td>US</td>\n",
       "      <td>US</td>\n",
       "      <td>US</td>\n",
       "      <td>Married Filling Jointly both under 65 (MFJ)</td>\n",
       "      <td>0</td>\n",
       "      <td>0</td>\n",
       "      <td>0</td>\n",
       "      <td>Under Median</td>\n",
       "      <td>Native</td>\n",
       "      <td>0.0</td>\n",
       "    </tr>\n",
       "  </tbody>\n",
       "</table>\n",
       "<p>10000 rows × 23 columns</p>\n",
       "</div>"
      ],
      "text/plain": [
       "           Age Gender                Education_Status  \\\n",
       "ID                                                      \n",
       "TEST_0000   79      M                     High Junior   \n",
       "TEST_0001   47      M                Elementary (5-6)   \n",
       "TEST_0002   18      F                     High Junior   \n",
       "TEST_0003   39      F  Associates degree (Vocational)   \n",
       "TEST_0004    6      M                        Children   \n",
       "...        ...    ...                             ...   \n",
       "TEST_9995   31      M                Bachelors degree   \n",
       "TEST_9996   27      M                         College   \n",
       "TEST_9997   18      M                   High graduate   \n",
       "TEST_9998    9      M                        Children   \n",
       "TEST_9999   34      M                   High graduate   \n",
       "\n",
       "                  Employment_Status  Working_Week (Yearly)  \\\n",
       "ID                                                           \n",
       "TEST_0000  Children or Armed Forces                      0   \n",
       "TEST_0001  Children or Armed Forces                      0   \n",
       "TEST_0002  Children or Armed Forces                     52   \n",
       "TEST_0003                 Full-Time                     30   \n",
       "TEST_0004  Children or Armed Forces                      0   \n",
       "...                             ...                    ...   \n",
       "TEST_9995  Children or Armed Forces                     52   \n",
       "TEST_9996  Children or Armed Forces                     52   \n",
       "TEST_9997  Children or Armed Forces                      7   \n",
       "TEST_9998  Children or Armed Forces                      0   \n",
       "TEST_9999                 Full-Time                     39   \n",
       "\n",
       "                       Industry_Status      Occupation_Status   Race  \\\n",
       "ID                                                                     \n",
       "TEST_0000  Not in universe or children                Unknown  White   \n",
       "TEST_0001  Not in universe or children                Unknown  White   \n",
       "TEST_0002                       Retail               Services  White   \n",
       "TEST_0003   Medical (except Hospitals)               Services  White   \n",
       "TEST_0004  Not in universe or children                Unknown  White   \n",
       "...                                ...                    ...    ...   \n",
       "TEST_9995  Other professional services  Technicians & Support  White   \n",
       "TEST_9996                       Retail      Handlers/Cleaners  White   \n",
       "TEST_9997                       Retail               Services  Black   \n",
       "TEST_9998  Not in universe or children                Unknown  White   \n",
       "TEST_9999                       Retail             Management  White   \n",
       "\n",
       "             Hispanic_Origin                Martial_Status  ... Birth_Country  \\\n",
       "ID                                                          ...                 \n",
       "TEST_0000          All other                        Single  ...            US   \n",
       "TEST_0001      Other Spanish                        Single  ...            US   \n",
       "TEST_0002          All other                        Single  ...            US   \n",
       "TEST_0003          All other                       Married  ...            US   \n",
       "TEST_0004   Mexican-American                        Single  ...            US   \n",
       "...                      ...                           ...  ...           ...   \n",
       "TEST_9995          All other                        Single  ...            US   \n",
       "TEST_9996          All other                       Married  ...            US   \n",
       "TEST_9997          All other                        Single  ...            US   \n",
       "TEST_9998          All other                        Single  ...            US   \n",
       "TEST_9999          All other  Married (Armed Force Spouse)  ...            US   \n",
       "\n",
       "          Birth_Country (Father) Birth_Country (Mother)  \\\n",
       "ID                                                        \n",
       "TEST_0000                Unknown                Unknown   \n",
       "TEST_0001                     US                     US   \n",
       "TEST_0002                     US                     US   \n",
       "TEST_0003                     US                     US   \n",
       "TEST_0004                     US                     US   \n",
       "...                          ...                    ...   \n",
       "TEST_9995                     US                     US   \n",
       "TEST_9996                     US                     US   \n",
       "TEST_9997                     US                     US   \n",
       "TEST_9998                     US                     US   \n",
       "TEST_9999                     US                     US   \n",
       "\n",
       "                                            Tax_Status Gains Losses Dividends  \\\n",
       "ID                                                                              \n",
       "TEST_0000                                       Single     0      0         0   \n",
       "TEST_0001                                     Nonfiler     0      0         0   \n",
       "TEST_0002                                       Single     0      0         0   \n",
       "TEST_0003  Married Filling Jointly both under 65 (MFJ)     0      0         0   \n",
       "TEST_0004                                     Nonfiler     0      0         0   \n",
       "...                                                ...   ...    ...       ...   \n",
       "TEST_9995                                       Single     0      0         0   \n",
       "TEST_9996  Married Filling Jointly both under 65 (MFJ)     0      0         0   \n",
       "TEST_9997                                     Nonfiler     0      0         0   \n",
       "TEST_9998                                     Nonfiler     0      0         0   \n",
       "TEST_9999  Married Filling Jointly both under 65 (MFJ)     0      0         0   \n",
       "\n",
       "           Income_Status  Immigrant_Background  Total Income indicator  \n",
       "ID                                                                      \n",
       "TEST_0000   Under Median             Immigrant                     0.0  \n",
       "TEST_0001   Under Median                Native                     0.0  \n",
       "TEST_0002   Under Median                Native                     0.0  \n",
       "TEST_0003        Unknown                Native                     0.0  \n",
       "TEST_0004        Unknown                Native                     0.0  \n",
       "...                  ...                   ...                     ...  \n",
       "TEST_9995   Under Median                Native                     0.0  \n",
       "TEST_9996   Under Median                Native                     0.0  \n",
       "TEST_9997   Under Median                Native                     0.0  \n",
       "TEST_9998   Under Median                Native                     0.0  \n",
       "TEST_9999   Under Median                Native                     0.0  \n",
       "\n",
       "[10000 rows x 23 columns]"
      ]
     },
     "execution_count": 5,
     "metadata": {},
     "output_type": "execute_result"
    }
   ],
   "source": [
    "def make_derived(df):\n",
    "    \n",
    "#     df['Gains'] = np.log1p(df['Gains'])\n",
    "#     df['Losses'] = np.log1p(df['Losses'])\n",
    "#     df['Dividends'] = np.log1p(df['Dividends'])\n",
    "#     df['Industry_Occupation'] = df['Industry_Status'] + \" - \" + df['Occupation_Status']\n",
    "    \n",
    "    df['Immigrant_Background'] = np.where((df['Birth_Country'] == 'US') &\n",
    "                                        (df['Birth_Country (Father)'] == 'US'), 'Native', 'Immigrant')\n",
    "    \n",
    "    df['Total Income indicator'] = (df['Gains'] - df['Losses'] + df['Dividends'])\n",
    "    df['Total Income indicator'] = (df['Total Income indicator']) / np.sqrt(np.sum(df['Total Income indicator']**2))\n",
    "    \n",
    "    return df\n",
    "\n",
    "make_derived(train)\n",
    "make_derived(test)"
   ]
  },
  {
   "cell_type": "markdown",
   "id": "e9baa5a4",
   "metadata": {},
   "source": [
    "### 이상치 제거 2"
   ]
  },
  {
   "cell_type": "code",
   "execution_count": 6,
   "id": "4c92b3e6",
   "metadata": {
    "ExecuteTime": {
     "end_time": "2024-04-07T12:21:25.779723Z",
     "start_time": "2024-04-07T12:21:25.767896Z"
    }
   },
   "outputs": [
    {
     "data": {
      "text/plain": [
       "count    6026.000000\n",
       "mean      545.810820\n",
       "std       675.573189\n",
       "min         0.000000\n",
       "25%         0.000000\n",
       "50%       475.000000\n",
       "75%       876.750000\n",
       "max      9400.000000\n",
       "Name: Income, dtype: float64"
      ]
     },
     "execution_count": 6,
     "metadata": {},
     "output_type": "execute_result"
    }
   ],
   "source": [
    "train[(train['Income_Status'] == 'Unknown')]['Income'].describe()"
   ]
  },
  {
   "cell_type": "code",
   "execution_count": 7,
   "id": "13d445b9",
   "metadata": {
    "ExecuteTime": {
     "end_time": "2024-04-07T12:21:26.021372Z",
     "start_time": "2024-04-07T12:21:26.017683Z"
    },
    "scrolled": true
   },
   "outputs": [],
   "source": [
    "ov_idx = train[train['Income'] > 7500].index"
   ]
  },
  {
   "cell_type": "code",
   "execution_count": 8,
   "id": "8a46b19d",
   "metadata": {
    "ExecuteTime": {
     "end_time": "2024-04-07T12:21:26.108822Z",
     "start_time": "2024-04-07T12:21:26.101492Z"
    }
   },
   "outputs": [],
   "source": [
    "train.drop(ov_idx, axis=0, inplace=True)"
   ]
  },
  {
   "cell_type": "code",
   "execution_count": 9,
   "id": "c148c6ad",
   "metadata": {
    "ExecuteTime": {
     "end_time": "2024-04-07T12:21:26.192187Z",
     "start_time": "2024-04-07T12:21:26.185085Z"
    }
   },
   "outputs": [],
   "source": [
    "train = train.drop(['Losses', \n",
    "                    'Birth_Country (Father)', 'Birth_Country (Mother)'], axis=1)\n",
    "test = test.drop(['Losses',\n",
    "                  'Birth_Country (Father)', 'Birth_Country (Mother)'], axis=1)"
   ]
  },
  {
   "cell_type": "code",
   "execution_count": 10,
   "id": "dfcadfbd",
   "metadata": {
    "ExecuteTime": {
     "end_time": "2024-04-07T12:21:26.273072Z",
     "start_time": "2024-04-07T12:21:26.269643Z"
    }
   },
   "outputs": [],
   "source": [
    "# test의 결측값에 결측값이 있어 최빈값으로 대체해주었습니다.\n",
    "test['Household_Status'].fillna(test['Household_Status'].mode()[0], inplace=True)"
   ]
  },
  {
   "cell_type": "code",
   "execution_count": 11,
   "id": "55041c8d",
   "metadata": {
    "ExecuteTime": {
     "end_time": "2024-04-07T12:21:26.359318Z",
     "start_time": "2024-04-07T12:21:26.354330Z"
    }
   },
   "outputs": [],
   "source": [
    "obj_cols = train.select_dtypes('object').columns.tolist()"
   ]
  },
  {
   "cell_type": "code",
   "execution_count": 12,
   "id": "3ada9dfe",
   "metadata": {
    "ExecuteTime": {
     "end_time": "2024-04-07T12:21:26.443806Z",
     "start_time": "2024-04-07T12:21:26.438297Z"
    }
   },
   "outputs": [],
   "source": [
    "# for i in obj_cols:\n",
    "#     le = LabelEncoder()\n",
    "#     le = le.fit(train[i])\n",
    "#     train[i] = le.transform(train[i])\n",
    "    \n",
    "#     # test 데이터의 새로운 카테고리에 대해 le.classes_ 배열에 추가\n",
    "#     # test 데이터에 대해서 직접적으로 fit을 수행할 경우 Data Leakage\n",
    "#     for case in np.unique(test[i]):\n",
    "#         if case not in le.classes_: \n",
    "#             le.classes_ = np.append(le.classes_, case) \n",
    "    \n",
    "#     test[i] = le.transform(test[i])"
   ]
  },
  {
   "cell_type": "code",
   "execution_count": 13,
   "id": "72ae325c",
   "metadata": {
    "ExecuteTime": {
     "end_time": "2024-04-07T12:21:26.626546Z",
     "start_time": "2024-04-07T12:21:26.522340Z"
    }
   },
   "outputs": [],
   "source": [
    "# 라벨 인코딩\n",
    "for i in obj_cols:\n",
    "    le = LabelEncoder()\n",
    "    le = le.fit(train[i])\n",
    "    train[i] = le.transform(train[i])\n",
    "    test[i] = le.transform(test[i])"
   ]
  },
  {
   "cell_type": "code",
   "execution_count": 14,
   "id": "d567191d",
   "metadata": {
    "ExecuteTime": {
     "end_time": "2024-04-07T12:21:26.771517Z",
     "start_time": "2024-04-07T12:21:26.769318Z"
    }
   },
   "outputs": [],
   "source": [
    "# reset index\n",
    "train.reset_index(drop=True, inplace=True)\n",
    "test.reset_index(drop=True, inplace=True)"
   ]
  },
  {
   "cell_type": "code",
   "execution_count": 15,
   "id": "709675fc",
   "metadata": {
    "ExecuteTime": {
     "end_time": "2024-04-07T12:59:02.846387Z",
     "start_time": "2024-04-07T12:59:02.823915Z"
    }
   },
   "outputs": [
    {
     "data": {
      "text/plain": [
       "((13972, 20), (5989, 20), (13972,), (5989,))"
      ]
     },
     "execution_count": 15,
     "metadata": {},
     "output_type": "execute_result"
    }
   ],
   "source": [
    "# train, validatoin data sets split\n",
    "X = train.drop('Income', axis=1).copy()\n",
    "y = train['Income'].copy()\n",
    "\n",
    "X_tr, X_val, y_tr, y_val = train_test_split(X, y,\n",
    "                                           test_size=0.3,\n",
    "                                           random_state=42)\n",
    "\n",
    "X_tr.shape, X_val.shape, y_tr.shape, y_val.shape"
   ]
  },
  {
   "cell_type": "code",
   "execution_count": 16,
   "id": "b881b4ba",
   "metadata": {
    "ExecuteTime": {
     "end_time": "2024-04-07T12:25:36.355119Z",
     "start_time": "2024-04-07T12:25:22.016131Z"
    }
   },
   "outputs": [
    {
     "name": "stdout",
     "output_type": "stream",
     "text": [
      "Learning rate set to 0.062106\n",
      "0:\tlearn: 624.0974682\ttotal: 68.8ms\tremaining: 1m 8s\n",
      "500:\tlearn: 474.8837021\ttotal: 4.82s\tremaining: 4.8s\n",
      "999:\tlearn: 454.0321060\ttotal: 12.5s\tremaining: 0us\n"
     ]
    }
   ],
   "source": [
    "# generate base model \n",
    "cat = CatBoostRegressor(random_state=42,\n",
    "                       verbose=500,\n",
    "                       cat_features=[1, 2, 3, 5, 6, 7, 8 , 9, 10, 11, 12, 13, 14, 17, 18])\n",
    "\n",
    "xgb = XGBRegressor(random_state=42,\n",
    "                  n_jobs=-1)\n",
    "\n",
    "hgb = HistGradientBoostingRegressor(random_state=42,\n",
    "                                   categorical_features=[1, 2, 3, 5, 6, 7, 8 , 9, 10, 11, 12, 13, 14, 17, 18])\n",
    "\n",
    "models = [cat, xgb, hgb]\n",
    "scores_train = []\n",
    "scores_of_r2_train = []\n",
    "scores_of_r2_test = []\n",
    "for idx, model in enumerate(models):\n",
    "    model.fit(X_tr, y_tr)\n",
    "    y_pred_train = model.predict(X_tr)\n",
    "    y_pred_test = model.predict(X_val)\n",
    "    \n",
    "    train_r2 = r2_score(y_tr, y_pred_train)\n",
    "    test_r2 = r2_score(y_val, y_pred_test)\n",
    "    \n",
    "    scores_of_r2_train.append(train_r2)\n",
    "    scores_of_r2_test.append(test_r2)\n",
    "    \n",
    "    rmse = root_mean_squared_error(y_val, y_pred_test)\n",
    "    scores_train.append(rmse)"
   ]
  },
  {
   "cell_type": "code",
   "execution_count": 17,
   "id": "d0b0e4d1",
   "metadata": {
    "ExecuteTime": {
     "end_time": "2024-04-07T12:25:36.362603Z",
     "start_time": "2024-04-07T12:25:36.358668Z"
    }
   },
   "outputs": [
    {
     "data": {
      "text/plain": [
       "[495.5752844927955, 519.942527675697, 495.649968117602]"
      ]
     },
     "execution_count": 17,
     "metadata": {},
     "output_type": "execute_result"
    }
   ],
   "source": [
    "scores_train"
   ]
  },
  {
   "cell_type": "code",
   "execution_count": 18,
   "id": "27bd90c2",
   "metadata": {
    "ExecuteTime": {
     "end_time": "2024-04-07T12:28:24.532886Z",
     "start_time": "2024-04-07T12:25:41.545740Z"
    }
   },
   "outputs": [
    {
     "name": "stdout",
     "output_type": "stream",
     "text": [
      "Learning rate set to 0.064621\n",
      "0:\tlearn: 622.9928733\ttotal: 132ms\tremaining: 2m 11s\n",
      "Learning rate set to 0.064622\n",
      "Learning rate set to 0.064622\n",
      "Learning rate set to 0.064622\n",
      "Learning rate set to 0.064622\n",
      "Learning rate set to 0.064622\n",
      "Learning rate set to 0.064622\n",
      "Learning rate set to 0.064622\n",
      "0:\tlearn: 616.0346179\ttotal: 94ms\tremaining: 1m 33s\n",
      "0:\tlearn: 621.5090269\ttotal: 122ms\tremaining: 2m 1s\n",
      "0:\tlearn: 614.6033778\ttotal: 133ms\tremaining: 2m 12s\n",
      "0:\tlearn: 623.0617535\ttotal: 134ms\tremaining: 2m 13s\n",
      "0:\tlearn: 616.0116227\ttotal: 167ms\tremaining: 2m 46s\n",
      "0:\tlearn: 617.4153752\ttotal: 202ms\tremaining: 3m 21s\n",
      "0:\tlearn: 622.3352902\ttotal: 192ms\tremaining: 3m 11s\n",
      "500:\tlearn: 481.0191495\ttotal: 1m 5s\tremaining: 1m 5s\n",
      "500:\tlearn: 474.5346921\ttotal: 1m 6s\tremaining: 1m 5s\n",
      "500:\tlearn: 476.6307127\ttotal: 1m 6s\tremaining: 1m 6s\n",
      "500:\tlearn: 471.0526073\ttotal: 1m 6s\tremaining: 1m 6s\n",
      "500:\tlearn: 473.8090334\ttotal: 1m 6s\tremaining: 1m 6s\n",
      "500:\tlearn: 478.8222079\ttotal: 1m 7s\tremaining: 1m 6s\n",
      "500:\tlearn: 475.3238974\ttotal: 1m 7s\tremaining: 1m 7s\n",
      "500:\tlearn: 478.1641499\ttotal: 1m 8s\tremaining: 1m 8s\n",
      "999:\tlearn: 460.8051375\ttotal: 2m 24s\tremaining: 0us\n",
      "999:\tlearn: 450.4168047\ttotal: 2m 25s\tremaining: 0us\n",
      "999:\tlearn: 455.8187004\ttotal: 2m 25s\tremaining: 0us\n",
      "999:\tlearn: 458.2957365\ttotal: 2m 25s\tremaining: 0us\n",
      "999:\tlearn: 453.9538300\ttotal: 2m 26s\tremaining: 0us\n",
      "999:\tlearn: 455.6017917\ttotal: 2m 26s\tremaining: 0us\n",
      "999:\tlearn: 459.3760653\ttotal: 2m 26s\tremaining: 0us\n",
      "Learning rate set to 0.064622\n",
      "0:\tlearn: 618.5527929\ttotal: 39.2ms\tremaining: 39.1s\n",
      "999:\tlearn: 459.3640110\ttotal: 2m 27s\tremaining: 0us\n",
      "Learning rate set to 0.064622\n",
      "0:\tlearn: 617.9155884\ttotal: 37.9ms\tremaining: 37.8s\n",
      "500:\tlearn: 477.7103749\ttotal: 18.8s\tremaining: 18.7s\n",
      "500:\tlearn: 473.8567136\ttotal: 18.6s\tremaining: 18.5s\n",
      "999:\tlearn: 457.2502487\ttotal: 38.1s\tremaining: 0us\n",
      "999:\tlearn: 453.1203544\ttotal: 38s\tremaining: 0us\n"
     ]
    },
    {
     "data": {
      "text/plain": [
       "503.79560139196485"
      ]
     },
     "execution_count": 18,
     "metadata": {},
     "output_type": "execute_result"
    }
   ],
   "source": [
    "# Crossvalidation (base model)\n",
    "scores = cross_val_score(estimator=cat,\n",
    "                        X=X, y=y,\n",
    "                        scoring='neg_root_mean_squared_error',\n",
    "                        cv=10,\n",
    "                        n_jobs=-1)\n",
    "-scores.mean()"
   ]
  },
  {
   "cell_type": "code",
   "execution_count": 19,
   "id": "38560a4f",
   "metadata": {
    "ExecuteTime": {
     "end_time": "2024-04-06T10:06:53.809249Z",
     "start_time": "2024-04-06T10:06:53.803116Z"
    }
   },
   "outputs": [],
   "source": [
    "# First hypter parameters tuning\n",
    "cat_params = {'learning_rate': 0.01847725211377579, \n",
    "              'depth': 8, \n",
    "              'subsample': 0.5337968843170635, \n",
    "              'colsample_bylevel': 0.268973976327973, \n",
    "              'min_data_in_leaf': 99,\n",
    "             'iterations': 1000,\n",
    "             'verbose':500,\n",
    "             'cat_features':[1, 2, 3, 5, 6, 7, 8 , 9, 10, 11, 12, 13, 14, 17, 18]}\n",
    "\n",
    "xgb_params = {'learning_rate': 0.016838742164370216, \n",
    "              'depth': 3, \n",
    "              'subsample': 0.8666720048612185, \n",
    "              'colsample_bytree': 0.18688459705364951, \n",
    "              'gamma': 20, 'n_estimators': 641, \n",
    "              'min_child_weight': 0.3509849473293521}\n",
    "\n",
    "hgb_params = {'max_leaf_nodes': 19, \n",
    "              'learning_rate': 0.049120475865009075, \n",
    "              'max_depth': 18, \n",
    "              'min_samples_leaf': 38}"
   ]
  },
  {
   "cell_type": "code",
   "execution_count": 20,
   "id": "ece609d2",
   "metadata": {
    "ExecuteTime": {
     "end_time": "2024-04-06T10:07:08.468906Z",
     "start_time": "2024-04-06T10:06:53.813713Z"
    }
   },
   "outputs": [
    {
     "name": "stdout",
     "output_type": "stream",
     "text": [
      "0:\tlearn: 631.9606412\ttotal: 18ms\tremaining: 18s\n",
      "500:\tlearn: 483.4934940\ttotal: 6.44s\tremaining: 6.42s\n",
      "999:\tlearn: 461.5968942\ttotal: 13.8s\tremaining: 0us\n"
     ]
    }
   ],
   "source": [
    "# First model\n",
    "cat = CatBoostRegressor(**cat_params)\n",
    "xgb = XGBRegressor(**xgb_params,\n",
    "                  n_jobs=-1)\n",
    "hgb = HistGradientBoostingRegressor(**hgb_params,\n",
    "                                   categorical_features=[1, 2, 3, 5, 6, 7, 8 , 9, 10, 11, 12, 13, 14, 17, 18])\n",
    "\n",
    "models = [cat, xgb, hgb]\n",
    "scores_train = []\n",
    "scores_of_r2_train = []\n",
    "scores_of_r2_test = []\n",
    "for idx, model in enumerate(models):\n",
    "    model.fit(X_tr, y_tr)\n",
    "    y_pred_train = model.predict(X_tr)\n",
    "    y_pred_test = model.predict(X_val)\n",
    "    \n",
    "    train_r2 = r2_score(y_tr, y_pred_train)\n",
    "    test_r2 = r2_score(y_val, y_pred_test)\n",
    "    \n",
    "    scores_of_r2_train.append((model.__module__, train_r2))\n",
    "    scores_of_r2_test.append((model.__module__, test_r2))\n",
    "    \n",
    "    rmse = root_mean_squared_error(y_val, y_pred_test)\n",
    "    scores_train.append((model.__module__, rmse))"
   ]
  },
  {
   "cell_type": "code",
   "execution_count": 21,
   "id": "1692f89b",
   "metadata": {
    "ExecuteTime": {
     "end_time": "2024-04-06T10:07:08.476542Z",
     "start_time": "2024-04-06T10:07:08.471640Z"
    }
   },
   "outputs": [
    {
     "data": {
      "text/plain": [
       "[('catboost.core', 494.26280486981096),\n",
       " ('xgboost.sklearn', 497.6534601501762),\n",
       " ('sklearn.ensemble._hist_gradient_boosting.gradient_boosting',\n",
       "  494.1638812432803)]"
      ]
     },
     "execution_count": 21,
     "metadata": {},
     "output_type": "execute_result"
    }
   ],
   "source": [
    "scores_train"
   ]
  },
  {
   "cell_type": "code",
   "execution_count": 22,
   "id": "3610d26e",
   "metadata": {
    "ExecuteTime": {
     "end_time": "2024-04-07T12:29:33.034455Z",
     "start_time": "2024-04-07T12:29:19.651362Z"
    }
   },
   "outputs": [
    {
     "name": "stdout",
     "output_type": "stream",
     "text": [
      "0:\tlearn: 631.9606412\ttotal: 20ms\tremaining: 20s\n",
      "500:\tlearn: 483.4934940\ttotal: 6.74s\tremaining: 6.71s\n",
      "999:\tlearn: 461.5968942\ttotal: 14s\tremaining: 0us\n"
     ]
    }
   ],
   "source": [
    "# Second params models\n",
    "cat_params = {'learning_rate': 0.01847725211377579, \n",
    "              'depth': 8, \n",
    "              'subsample': 0.5337968843170635, \n",
    "              'colsample_bylevel': 0.268973976327973, \n",
    "              'min_data_in_leaf': 99,\n",
    "             'iterations': 1000,\n",
    "             'verbose':500,\n",
    "             'cat_features':[1, 2, 3, 5, 6, 7, 8 , 9, 10, 11, 12, 13, 14, 17, 18]}\n",
    "\n",
    "xgb_params = {'learning_rate': 0.016838742164370216, \n",
    "              'subsample': 0.8666720048612185, \n",
    "              'colsample_bytree': 0.18688459705364951, \n",
    "              'gamma': 20, 'n_estimators': 641, \n",
    "              'min_child_weight': 0.3509849473293521}\n",
    "\n",
    "hgb_params = {'max_leaf_nodes': 19, \n",
    "              'learning_rate': 0.049120475865009075, \n",
    "              'max_depth': 18, \n",
    "              'min_samples_leaf': 38}\n",
    "\n",
    "xgb_model = XGBRegressor(**xgb_params)\n",
    "cat_model = CatBoostRegressor(**cat_params)\n",
    "hgb_model = HistGradientBoostingRegressor(**hgb_params,\n",
    "                                         categorical_features=[1, 2, 3, 5, 6, 7, 8 , 9, 10, 11, 12, 13, 14, 17, 18])\n",
    "\n",
    "# Voiting ensemble\n",
    "voting_regressor = VotingRegressor(estimators=[('catboost', cat_model),\n",
    "                                  ('xgb', xgb_model),\n",
    "                                  ('hgb', hgb_model)])\n",
    "\n",
    "model = voting_regressor.fit(X_tr, y_tr)"
   ]
  },
  {
   "cell_type": "code",
   "execution_count": 23,
   "id": "6ae03d8d",
   "metadata": {
    "ExecuteTime": {
     "end_time": "2024-04-07T12:31:35.012959Z",
     "start_time": "2024-04-07T12:29:33.037393Z"
    },
    "scrolled": true
   },
   "outputs": [
    {
     "name": "stdout",
     "output_type": "stream",
     "text": [
      "0:\tlearn: 631.1021527\ttotal: 102ms\tremaining: 1m 42s\n",
      "0:\tlearn: 624.1963750\ttotal: 94.6ms\tremaining: 1m 34s\n",
      "0:\tlearn: 629.0205043\ttotal: 118ms\tremaining: 1m 57s\n",
      "0:\tlearn: 625.5719094\ttotal: 133ms\tremaining: 2m 12s\n",
      "0:\tlearn: 623.6045873\ttotal: 133ms\tremaining: 2m 12s\n",
      "0:\tlearn: 629.6666431\ttotal: 108ms\tremaining: 1m 47s\n",
      "0:\tlearn: 621.9235106\ttotal: 142ms\tremaining: 2m 21s\n",
      "0:\tlearn: 631.3748272\ttotal: 150ms\tremaining: 2m 30s\n",
      "500:\tlearn: 483.1248503\ttotal: 50.3s\tremaining: 50.1s\n",
      "500:\tlearn: 488.2506699\ttotal: 50.3s\tremaining: 50.1s\n",
      "500:\tlearn: 486.4325104\ttotal: 50.9s\tremaining: 50.7s\n",
      "500:\tlearn: 488.9236806\ttotal: 51.3s\tremaining: 51.1s\n",
      "500:\tlearn: 483.5930401\ttotal: 51.7s\tremaining: 51.5s\n",
      "500:\tlearn: 479.4415524\ttotal: 52.2s\tremaining: 52s\n",
      "500:\tlearn: 485.5803063\ttotal: 52.3s\tremaining: 52s\n",
      "500:\tlearn: 481.9480592\ttotal: 52.4s\tremaining: 52.2s\n",
      "999:\tlearn: 465.6404768\ttotal: 1m 46s\tremaining: 0us\n",
      "999:\tlearn: 471.6194830\ttotal: 1m 47s\tremaining: 0us\n",
      "999:\tlearn: 470.3736923\ttotal: 1m 47s\tremaining: 0us\n",
      "999:\tlearn: 472.5429298\ttotal: 1m 47s\tremaining: 0us\n",
      "999:\tlearn: 460.9940759\ttotal: 1m 48s\tremaining: 0us\n",
      "999:\tlearn: 469.0042186\ttotal: 1m 48s\tremaining: 0us\n",
      "999:\tlearn: 466.2611206\ttotal: 1m 48s\tremaining: 0us\n",
      "999:\tlearn: 465.8569273\ttotal: 1m 48s\tremaining: 0us\n",
      "0:\tlearn: 625.8556472\ttotal: 76.3ms\tremaining: 1m 16s\n",
      "0:\tlearn: 626.0787643\ttotal: 83.2ms\tremaining: 1m 23s\n",
      "500:\tlearn: 484.4408721\ttotal: 12.8s\tremaining: 12.7s\n",
      "500:\tlearn: 483.9947182\ttotal: 12.4s\tremaining: 12.4s\n",
      "999:\tlearn: 468.3471604\ttotal: 27.7s\tremaining: 0us\n",
      "999:\tlearn: 466.3789145\ttotal: 27.4s\tremaining: 0us\n"
     ]
    },
    {
     "data": {
      "text/plain": [
       "503.24178932636744"
      ]
     },
     "execution_count": 23,
     "metadata": {},
     "output_type": "execute_result"
    }
   ],
   "source": [
    "# Crossvalidate for Final model\n",
    "scores = cross_val_score(estimator=model,\n",
    "                        X=X, y=y,\n",
    "                        scoring='neg_root_mean_squared_error',\n",
    "                        cv=10,\n",
    "                        n_jobs=-1)\n",
    "\n",
    "-scores.mean()"
   ]
  },
  {
   "cell_type": "code",
   "execution_count": 24,
   "id": "4c88958d",
   "metadata": {
    "ExecuteTime": {
     "end_time": "2024-04-07T12:59:53.416301Z",
     "start_time": "2024-04-07T12:59:53.303218Z"
    }
   },
   "outputs": [],
   "source": [
    "# 모델 예측\n",
    "pred = model.predict(test)\n",
    "\n",
    "# 후처리 1  예측 값이 0보다 작은 값들을 0으로 처리.\n",
    "pred = [0 if i < 0 else i for i in pred]\n",
    "# 후처리 2 나이가 0인 사람들의 근로소득 값 0 으로 처리.\n",
    "test['Income'] = pred\n",
    "test.loc[test['Age'] == 0, 'Income'] = 0"
   ]
  },
  {
   "cell_type": "code",
   "execution_count": 25,
   "id": "0830ecf1",
   "metadata": {
    "ExecuteTime": {
     "end_time": "2024-04-07T13:00:50.331012Z",
     "start_time": "2024-04-07T13:00:50.323337Z"
    }
   },
   "outputs": [],
   "source": [
    "y_result = test['Income'].values\n",
    "sub['Income'] = y_result\n",
    "sub.to_csv('data/sub_0408_1.csv', index=False)\n",
    "df_sub = pd.read_csv('data/sub_0408_1.csv')"
   ]
  },
  {
   "cell_type": "code",
   "execution_count": null,
   "id": "c0d0304c",
   "metadata": {},
   "outputs": [],
   "source": []
  },
  {
   "cell_type": "code",
   "execution_count": null,
   "id": "941ee38a",
   "metadata": {},
   "outputs": [],
   "source": []
  },
  {
   "cell_type": "code",
   "execution_count": null,
   "id": "869b4f51",
   "metadata": {},
   "outputs": [],
   "source": []
  }
 ],
 "metadata": {
  "hide_input": false,
  "kernelspec": {
   "display_name": "Python 3 (ipykernel)",
   "language": "python",
   "name": "python3"
  },
  "language_info": {
   "codemirror_mode": {
    "name": "ipython",
    "version": 3
   },
   "file_extension": ".py",
   "mimetype": "text/x-python",
   "name": "python",
   "nbconvert_exporter": "python",
   "pygments_lexer": "ipython3",
   "version": "3.10.12"
  },
  "toc": {
   "base_numbering": 1,
   "nav_menu": {},
   "number_sections": true,
   "sideBar": true,
   "skip_h1_title": false,
   "title_cell": "Table of Contents",
   "title_sidebar": "Contents",
   "toc_cell": false,
   "toc_position": {},
   "toc_section_display": true,
   "toc_window_display": false
  }
 },
 "nbformat": 4,
 "nbformat_minor": 5
}
